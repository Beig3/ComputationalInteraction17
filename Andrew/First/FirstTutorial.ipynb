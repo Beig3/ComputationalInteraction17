{
 "cells": [
  {
   "cell_type": "markdown",
   "metadata": {},
   "source": [
    "# The Iowa Gambling Task"
   ]
  },
  {
   "cell_type": "markdown",
   "metadata": {},
   "source": [
    "Imagine you are presented with four virtual decks of cards. You are told that each time you choose a card from a deck, you will either win or lose some money. The goal is to win as much money as possible.\n",
    "\n",
    "This is the basis of the Iowa Gambling Task. Some decks will win money in the long term, on average, while some will lose money in the long term, on average.\n",
    "\n",
    "This experiment was introduced by Bechara et al. in 1994. In the task, rewards and punishments are counter-intuitively arranged so that the decks with higher wins (100) result in a long−term net loss, while the decks with smaller wins(50) yield a net gain.\n",
    "\n",
    "Participants who do not learn to prefer one or both of the $50 decks over the course of 100 trials are considered to exhibit a decision-making impairment. Over the last 20 years the IGT has become a de-facto standard for decision-making research. Indeed, the IGT has not only contributed to understanding decision-making deficits in patients with certain types of brain damage, but has also been successfully applied to a variety of disorders arising from poor impulse control (e.g., pathological gambling; Brand et al., 2005).\n",
    "\n",
    "This tutorial will teach you to create a model of this task in Python.\n",
    "\n",
    "The tutorial is illustrated with an Iowa gambling task experiment reported by Bull et al., 2015.\n",
    "\n",
    "This is an image of what the Iowa Gambling Task looks like, and how participants interact with it, taken from the paper.\n",
    "\n",
    "As you can see, there are four virtual decks. Deck C has been chosen, and the participant receives $50 from that choice. \n",
    "\n",
    "<img src=\"IGT.png\" width=\"800\" height=\"800\">"
   ]
  },
  {
   "cell_type": "markdown",
   "metadata": {},
   "source": [
    "### Jupyter Notebook Summary"
   ]
  },
  {
   "cell_type": "markdown",
   "metadata": {},
   "source": [
    "This tutorial has been produced using Jupyter Notebook. You will see sections of text, accompanied by sections of code. To run the code, click on it, hold shift, and press enter."
   ]
  },
  {
   "cell_type": "markdown",
   "metadata": {},
   "source": [
    "## Building the Model"
   ]
  },
  {
   "cell_type": "markdown",
   "metadata": {},
   "source": [
    "### The Code"
   ]
  },
  {
   "cell_type": "markdown",
   "metadata": {},
   "source": [
    "#### Building the Decks"
   ]
  },
  {
   "cell_type": "markdown",
   "metadata": {
    "collapsed": true
   },
   "source": [
    "Let's begin writing the code. We will first write the code to set up the decks. The code used in this tutorial has been based on Farris, 2016, though it has been heavily adapted and rewritten in order to suit this tutorial.\n",
    "\n",
    "Each section in the tutorial will begin with a block of code, followed by a line by line explanation of the code. The code most likely won't make much sense before reading the explanations."
   ]
  },
  {
   "cell_type": "code",
   "execution_count": 3,
   "metadata": {
    "collapsed": false
   },
   "outputs": [
    {
     "name": "stdout",
     "output_type": "stream",
     "text": [
      "Randomised order of the decks:  [3, 1, 0, 2] \n",
      "\n"
     ]
    }
   ],
   "source": [
    "import numpy as np\n",
    "import random\n",
    "\n",
    "\n",
    "class Iowa:\n",
    "    def __init__(self):\n",
    "\n",
    "        self.deck_values = [0, 1, 2, 3]\n",
    "\n",
    "        random.shuffle(self.deck_values)  # randomise deck order\n",
    "\n",
    "        self.num_draws = [0, 0, 0, 0]  # set up list for tracking number of draws\n",
    "        self.est_values = [0, 0, 0, 0]  # set up list for tracking estimated values\n",
    "        \n",
    "        print \"Randomised order of the decks: \", self.deck_values, '\\n';\n",
    "\n",
    "experiment_instance = Iowa()"
   ]
  },
  {
   "cell_type": "markdown",
   "metadata": {
    "collapsed": true
   },
   "source": [
    "This initial function sets up the decks, and randomises the order. A function is some code that performs a certain task. \n",
    "\n",
    "Run the code above a few times and see the results. This is the order of the four decks, generated randomly each time."
   ]
  },
  {
   "cell_type": "markdown",
   "metadata": {},
   "source": [
    "The first line of code:\n",
    "\n",
    "    import numpy as np\n",
    "    \n",
    "allows us to use the Python library 'numpy' by calling 'np'. Libraries contain many useful functions. In our case, numpy contains mathematical functions that we will be using.\n",
    "\n",
    "    import random\n",
    "\n",
    "similarly imports the 'random' library."
   ]
  },
  {
   "cell_type": "markdown",
   "metadata": {},
   "source": [
    "Next, a class is created. Classes hold functions that we will create. We have named our class 'Iowa'.\n",
    "\n",
    "An initial '\\__init\\__' function has been created. This is used to set up the experiment initially.\n",
    "\n",
    "'\\__init\\__' functions are special within Python. When we want to use this class to run an experiment, we need to make an 'instance' of the class. Whenever we make an instance, the '\\__init\\__ function is automatically run.\n",
    "\n",
    "A good analogy would be this:\n",
    "\n",
    "A class contains some sort of structure. A 'dog' class for example, could contain 'legs', 'eyes', etc.\n",
    "\n",
    "An instance of this dog class would a specific creation. You can have as many instances as possible. An example of an instance could be 'James' or 'Dolly', it would be a specific dog.\n",
    "\n",
    "A good guide to classes, instances, and self, by Hamrick, 2011, is linked in the references section at the bottom."
   ]
  },
  {
   "cell_type": "markdown",
   "metadata": {},
   "source": [
    "    self.deck_values = [0, 1, 2, 3]\n",
    "\n",
    "'self' refers to this particular instance. It means this particular instance will have this 'deck_values' list.\n",
    "\n",
    "A list is a data structure that holds elements (items), similar to arrays in other languages. This line sets up a list, with elements 0, 1, 2, 3. These are the the deck numbers which we will refer to as the 'base decks'. Like many other languages, Python begins counting at 0.\n",
    "\n",
    "I would highly recommend reading the TutorialPoint introduction to lists, linked in the references section at the bottom for further information."
   ]
  },
  {
   "cell_type": "markdown",
   "metadata": {},
   "source": [
    "    random.shuffle(self.deck_values)\n",
    "    \n",
    "This calls the 'shuffle' function from the 'random' library. This shuffles the elements in the list, randomising the order of the decks."
   ]
  },
  {
   "cell_type": "markdown",
   "metadata": {
    "collapsed": true
   },
   "source": [
    "    self.num_draws = [0, 0, 0, 0]\n",
    "\n",
    "This line of code sets up a list of four numbers, all set to zero to start. We will use this to keep track of how many times each deck has been drawn from."
   ]
  },
  {
   "cell_type": "markdown",
   "metadata": {
    "collapsed": true
   },
   "source": [
    "    self.est_values = [0, 0, 0, 0]\n",
    "\n",
    "This sets up another list of four numbers, with all set to zero to start again. We will use this to keep track of what we estimate the return of each deck to be."
   ]
  },
  {
   "cell_type": "markdown",
   "metadata": {},
   "source": [
    "Take another look at the code, and run it a few times to make sure you understand what is happening."
   ]
  },
  {
   "cell_type": "markdown",
   "metadata": {
    "collapsed": true
   },
   "source": [
    "#### Calculating the reward"
   ]
  },
  {
   "cell_type": "markdown",
   "metadata": {
    "collapsed": true
   },
   "source": [
    "We will now write a function to calculate the reward after drawing from a deck. The code may look a little intimidating but we'll walk through it line by line."
   ]
  },
  {
   "cell_type": "code",
   "execution_count": 8,
   "metadata": {
    "collapsed": false
   },
   "outputs": [
    {
     "name": "stdout",
     "output_type": "stream",
     "text": [
      "Deck 0:\n",
      "Reward:  -35\n",
      "Good: 1 \n",
      "\n",
      "Deck 1:\n",
      "Reward:  50\n",
      "Good: -1 \n",
      "\n",
      "Deck 2:\n",
      "Reward:  -150\n",
      "Good: -1 \n",
      "\n",
      "Deck 3:\n",
      "Reward:  50\n",
      "Good: 1 \n",
      "\n"
     ]
    },
    {
     "data": {
      "text/plain": [
       "(50, 1)"
      ]
     },
     "execution_count": 8,
     "metadata": {},
     "output_type": "execute_result"
    }
   ],
   "source": [
    "import numpy as np\n",
    "import random\n",
    "\n",
    "\n",
    "class Iowa:\n",
    "    \n",
    "    from code import __init__\n",
    "    \n",
    "    def calc_reward(self, deck_to_draw):\n",
    "        \n",
    "        deck_number = self.deck_values[deck_to_draw]  # the deck number to draw from\n",
    "\n",
    "        good = 0  # if the deck is good or bad\n",
    "        \n",
    "        rand_num = random.random()  # random float between 0.0 and 1.0\n",
    "\n",
    "        if deck_number == 0:  # average over 10 draws, -250\n",
    "\n",
    "            good = -1  # bad deck\n",
    "\n",
    "            if rand_num < 0.5:\n",
    "                reward = -150\n",
    "            else:\n",
    "                reward = 100\n",
    "\n",
    "        elif deck_number == 1:  # average over 10 draws, -250\n",
    "\n",
    "            good = -1  # bad deck\n",
    "\n",
    "            if rand_num < 0.1:\n",
    "                reward = -700\n",
    "            else:\n",
    "                reward = 50\n",
    "\n",
    "        elif deck_number == 2:  # average over 10 draws, +200\n",
    "\n",
    "            good = 1  # good deck\n",
    "\n",
    "            if rand_num < 0.5:\n",
    "                reward = -35\n",
    "            else:\n",
    "                reward = 75\n",
    "\n",
    "        elif deck_number == 3:  # average over 10 draws, +250\n",
    "\n",
    "            good = 1  # good deck\n",
    "\n",
    "            if rand_num < 0.1:\n",
    "                reward = -200\n",
    "            else:\n",
    "                reward = 50\n",
    "        \n",
    "        print \"Reward: \", reward\n",
    "        print \"Good:\", good, '\\n';\n",
    "        return reward, good\n",
    "\n",
    "experiment_instance = Iowa()  \n",
    "\n",
    "print 'Deck 0:'\n",
    "experiment_instance.calc_reward(0)\n",
    "\n",
    "print 'Deck 1:'\n",
    "experiment_instance.calc_reward(1)\n",
    "\n",
    "print 'Deck 2:'\n",
    "experiment_instance.calc_reward(2)\n",
    "\n",
    "print 'Deck 3:'\n",
    "experiment_instance.calc_reward(3)"
   ]
  },
  {
   "cell_type": "markdown",
   "metadata": {},
   "source": [
    "    from code import __init__\n",
    "\n",
    "We've added this to our code. We have a seperate file, 'code.py', that contains all the functions we will write. We wrote '\\__init\\__' in the previous section. To save space, we can replace the entire '\\__init\\__' with 'from code import \\__init\\__', which takes '\\__init\\__' from code.py and puts it where the import line is.\n",
    "\n",
    "We will be adding more functions to this line throughout the tutorial. Functions can be added by separating them with a comma."
   ]
  },
  {
   "cell_type": "markdown",
   "metadata": {
    "collapsed": true
   },
   "source": [
    "As you can see, we've now added the 'calc_reward' function to our code. Let's walk through it."
   ]
  },
  {
   "cell_type": "markdown",
   "metadata": {},
   "source": [
    "    def calc_reward(self, deck_to_draw):\n",
    "\n",
    "This function has two parameters (something you must give the function for it to run).\n",
    "\n",
    "The first parameter is 'self'. This is so the functions knows what instance to compute things on. All our functions in this class will need 'self'.\n",
    "\n",
    "The other parameter is the deck number from which to draw a card."
   ]
  },
  {
   "cell_type": "markdown",
   "metadata": {},
   "source": [
    "    deck_number = self.deck_values[deck_to_draw]\n",
    "    \n",
    "This line of code gets the base deck number from the deck_to_draw input parameter, and calls it 'deck_number'. We use the deck_number to 'access' the 'base deck'.\n",
    "\n",
    "For example, if the base decks are randomised in the order [2, 0, 3, 1]:\n",
    "\n",
    "    self.deck_values[0]\n",
    "    \n",
    "would return 2, as 2 is in position 0 in the list. 0 will be the number used to access the base deck 2.\n",
    "\n",
    "    self.deck_values[3]\n",
    "    \n",
    "would return 1, as 1 is in position 3 in the list.\n",
    "\n",
    "As specified above, we will call the randomised deck numbers the 'base decks'. We will call the numbers used to access them as decks zero through three. With the randomised order above, deck 1 will refer to base deck 2. Deck 1 will refer to base deck 0. Deck 2 will refer to base deck 3. Deck 3 will refer to base deck 1."
   ]
  },
  {
   "cell_type": "markdown",
   "metadata": {},
   "source": [
    "    good = 0\n",
    "\n",
    "This is an integer that we will use to return if the deck chosen is a 'good' deck, that will win money over time, or a 'bad' deck, that will lose money over time. We will return +1 for 'good' decks, and -1 for 'bad' decks.\n",
    "\n",
    "    rand_num = random.random()\n",
    "    \n",
    "This calls the 'random' function from the 'random' library. This generates a random float (a decimal number, non integer) between 0.0 and 1.0 which we will use to decide rewards later."
   ]
  },
  {
   "cell_type": "markdown",
   "metadata": {
    "collapsed": true
   },
   "source": [
    "    if deck_number == 0:\n",
    "\n",
    "        good = -1 \n",
    "        \n",
    "        if rand_num < 0.5:\n",
    "            reward = -150\n",
    "        else:\n",
    "            reward = 100\n",
    "            \n",
    "Let's walk through this line by line.\n",
    "\n",
    "An 'if' statement means that if the given condition is met, we run the following code that is indented.\n",
    "With our code, if the deck we have picked has a deck number of 0 (== means 'is equivalent to'), we enter this 'if' statement. \n",
    "\n",
    "We set good to -1 as we will make it a 'bad' deck, with a net loss over time.\n",
    "\n",
    "We then use our random number. If the random number is less than 0.5, we set reward to -150. Otherwise, we set reward to +100. This gives a 50% chance of losing 150, and a 50% chance of winning 100. On average, over 10 draws, this deck will lose 250.\n",
    "\n",
    "We use similar statements for the other three decks. 'elif' stands for 'else if'. If the previous 'if' statement was not satisfied, the condition is checked against this statement. If it satisfies it, we enter this statement.\n",
    "\n",
    "The decks correspond to the decks used by Bull et al., 2015, copying Bechara et al., 1994:\n",
    "\n",
    "Decks 0 and 1 have a net loss of \\$250 over 10 plays. Deck 2 and 3 have a net gain of \\$200 and \\$250 respectively over 10 plays. Decks 0 and 2 have frequent, but small loses. Decks 1 and 3 have infrequent but large losses."
   ]
  },
  {
   "cell_type": "markdown",
   "metadata": {},
   "source": [
    "    return reward, good\n",
    "\n",
    "We return two things: the reward, and if the deck is 'good' or 'bad' to wherever called this function."
   ]
  },
  {
   "cell_type": "markdown",
   "metadata": {},
   "source": [
    "Running the code will generate the decks, shuffle them, and draw a card from each deck."
   ]
  },
  {
   "cell_type": "markdown",
   "metadata": {},
   "source": [
    "#### Choosing Which Deck to Draw From"
   ]
  },
  {
   "cell_type": "markdown",
   "metadata": {},
   "source": [
    "Before starting this section of code, we need to understand the algorithm used to choose the deck to draw from each time, called 'epsilon-greedy'.\n",
    "\n",
    "\n",
    "Each time the algorithm faces a choice of which deck to choose, it must decide whether to draw from the one it currently thinks is best, called exploitation, or draw from a different one in order to test if it might be better, called exploration.\n",
    "\n",
    "\n",
    "The epsilon value is the parameter we change. This changes that the amount the algorithm chooses to exploit vs explore. The epsilon value is the chance the algorithm chooses to explore rather than exploit, i.e. the chance it chooses another random cdeck.\n",
    "\n",
    "\n",
    "For example, choosing an epsilon value of 0.0 means that it never chooses to explore, it will always just choose the deck that it thinks is best, while an epsilon value of 1.0 means it will always randomly choose a deck that is not the best.\n",
    "\n",
    "Let's take a look at the code, and see how it works in practice."
   ]
  },
  {
   "cell_type": "code",
   "execution_count": null,
   "metadata": {
    "collapsed": false,
    "scrolled": true
   },
   "outputs": [],
   "source": [
    "import numpy as np\n",
    "import random\n",
    "\n",
    "\n",
    "class Iowa:\n",
    "\n",
    "    from code import __init__, calc_reward\n",
    "\n",
    "    # choose which deck to draw from\n",
    "    def choose_eps_greedy(self, epsilon):  \n",
    "\n",
    "        # generate a random float between 0.0 and 1.0\n",
    "        rand_num = random.random()  \n",
    "\n",
    "        # get best deck\n",
    "        best_deck = np.argmax(self.est_values)\n",
    "\n",
    "        # if the random number is higher than epsilon, exploit\n",
    "        if rand_num > epsilon:  \n",
    "            print \"Exploit: \", best_deck\n",
    "\n",
    "            return best_deck  \n",
    "\n",
    "        # if random number is lower than epsilon, explore\n",
    "        else:\n",
    "            random_deck = random.choice(self.deck_values)\n",
    "\n",
    "            # make sure random deck chosen is not best deck\n",
    "            while random_deck == best_deck:\n",
    "                random_deck = random.choice(self.deck_values)\n",
    "\n",
    "            print \"Explore: \", random_deck\n",
    "            return random_deck \n",
    "        \n",
    "experiment_instance = Iowa()  \n",
    "experiment_instance.choose_eps_greedy(0.25)"
   ]
  },
  {
   "cell_type": "markdown",
   "metadata": {},
   "source": [
    "Let's break this down."
   ]
  },
  {
   "cell_type": "markdown",
   "metadata": {},
   "source": [
    "    def choose_eps_greedy(self, epsilon)\n",
    "\n",
    "The function takes in epsilon as a parameter, so it can choose the amount it exploits vs explores. Epsilon is a float between 0.0 and 1.0. "
   ]
  },
  {
   "cell_type": "markdown",
   "metadata": {},
   "source": [
    "    rand_num = random.random()\n",
    "\n",
    "This generates a random float between 0.0 and 1.0, like we used in the previous function."
   ]
  },
  {
   "cell_type": "markdown",
   "metadata": {},
   "source": [
    "    best_deck = np.argmax(self.est_values)\n",
    "    \n",
    "The argmax function is called from the numpy library. It returns the index of the highest value in the list of est_values.\n",
    "\n",
    "est_values contains the estimated values of each of the decks (as discussed above).\n",
    "\n",
    "Therefore, the current best deck is returned.\n",
    "\n",
    "For example, if the est_values list is [0, -100, 50, 100], 3 will be returned. 100 is the highest value, and 3 is the index at which it is located."
   ]
  },
  {
   "cell_type": "markdown",
   "metadata": {},
   "source": [
    "    if rand_num > epsilon:\n",
    "        return best_deck\n",
    "        \n",
    "If the random number is higher than the random number generated, exploit by choosing the deck that is currently thought to be best.\n",
    "\n",
    "    else:\n",
    "        random_deck = random.choice(self.deck_values)\n",
    "\n",
    "        while random_deck == best_deck:\n",
    "            random_deck = random.choice(self.deck_values)\n",
    "\n",
    "        return random_deck\n",
    "\n",
    "If the random number is not higher than epsilon, explore by randomly choosing a deck to draw from. For example, if epsilon is 0.2, then there will be a 20% chance of exploring.\n",
    "\n",
    "    random_deck = random.choice(self.deck_values)\n",
    "    \n",
    "This randomly chooses a deck from the possible decks.\n",
    "\n",
    "    while random_deck == best_deck:\n",
    "        random_deck = random.choice(self.deck_values)\n",
    "            \n",
    "If the random deck is the same as the best deck, we enter this while loop. We keep choosing a new random deck until it is not the same as the best deck. This prevents the best deck being chosen when we are exploring.\n",
    "\n",
    "    return random_deck\n",
    "    \n",
    "We return this random deck."
   ]
  },
  {
   "cell_type": "markdown",
   "metadata": {},
   "source": [
    "#### Updating the Estimates"
   ]
  },
  {
   "cell_type": "markdown",
   "metadata": {},
   "source": [
    "After each time we draw a card, we need to update the estimates for what we think the deck value (expected return) is. We do this by calculating an average of every card drawn from that deck."
   ]
  },
  {
   "cell_type": "code",
   "execution_count": null,
   "metadata": {
    "collapsed": false
   },
   "outputs": [],
   "source": [
    "import numpy as np\n",
    "import random\n",
    "\n",
    "\n",
    "class Iowa:\n",
    "    \n",
    "    from code import __init__, calc_reward, choose_eps_greedy\n",
    "\n",
    "    def update_est(self, deck_to_draw, reward):\n",
    "        \n",
    "        # increase number of deck draws by one\n",
    "        self.num_draws[deck_to_draw] += 1  \n",
    "        \n",
    "        # calculate the step-size\n",
    "        alpha = 1./self.num_draws[deck_to_draw] \n",
    "        \n",
    "        # running average of rewards\n",
    "        self.est_values[deck_to_draw] += alpha * (reward - self.est_values[deck_to_draw])  \n",
    "        print \"Updated average: \", self.est_values[deck_to_draw]\n",
    "        \n",
    "experiment_instance = Iowa()  \n",
    "experiment_instance.update_est(0, 100)\n",
    "experiment_instance.update_est(0, -150)\n",
    "experiment_instance.update_est(0, -150)\n",
    "experiment_instance.update_est(0, 100)"
   ]
  },
  {
   "cell_type": "markdown",
   "metadata": {},
   "source": [
    "Let's see how this works."
   ]
  },
  {
   "cell_type": "markdown",
   "metadata": {},
   "source": [
    "    def update_est(self, deck_to_draw, reward)\n",
    "    \n",
    "The function takes in the deck number we drew from, and the reward received as parameters."
   ]
  },
  {
   "cell_type": "markdown",
   "metadata": {},
   "source": [
    "    self.num_draws[deck_to_draw] += 1\n",
    "\n",
    "num_draws is the list storing the number of times each deck has been drawn from. We increment the value stored at the index corresponding to the deck that was drawn from after each draw. The above line is the same as:\n",
    "    \n",
    "    self.num_draws[deck_to_draw] = self.num_draws[deck_to_draw] + 1\n",
    "\n",
    "For example, if a card is drawn from deck 0, self.num_draws[0] will be incremented by one, i.e. if the num_draws list was [12, 32, 25, 29], the list would become [13, 32, 25, 29]."
   ]
  },
  {
   "cell_type": "markdown",
   "metadata": {},
   "source": [
    "    alpha = 1./self.num_draws[deck_to_draw]\n",
    "\n",
    "This calculates the step-size, something we use in the next step. It is calculated using: 1/(number of draws from that deck)."
   ]
  },
  {
   "cell_type": "markdown",
   "metadata": {},
   "source": [
    "    self.est_values[deck_to_draw] += alpha * (reward - self.est_values[deck_to_draw]) \n",
    "\n",
    "This updates the average reward from the deck that was drawn from. It is an incremental way of calculating (total reward from deck)/(number of draws from deck), which is the average. The actual algorithm itself is not important, and there are lots of algorithms that do the same thing, but make sure to understand what it calculates.\n",
    "\n",
    "As an exercise, you could try implementing a different algorithm."
   ]
  },
  {
   "cell_type": "markdown",
   "metadata": {},
   "source": [
    "Running the above code will calculate the estimates if the first four rewards drawn from deck 0 were: 100, -150, -150, 100."
   ]
  },
  {
   "cell_type": "markdown",
   "metadata": {},
   "source": [
    "#### Running an Experiment"
   ]
  },
  {
   "cell_type": "markdown",
   "metadata": {},
   "source": [
    "We now have all the code we need to run experiments, and we can finish off the class. This section of code is not runnable, we'll go through how to run it in the following section.\n",
    "\n",
    "Like the experiment conducted by Bull et al., 2015, we will be displaying our results in 20 draw blocks. In summary, we will count the number of 'good' draws minus 'bad' draws for the first 20 draws, and call that block one. We will then count the number of 'good' draws minus 'bad' draws for the next twenty blocks, and call that block two, and so on."
   ]
  },
  {
   "cell_type": "code",
   "execution_count": 1,
   "metadata": {
    "collapsed": true
   },
   "outputs": [],
   "source": [
    "import numpy as np\n",
    "import random\n",
    "\n",
    "\n",
    "class Iowa:\n",
    "    \n",
    "    from code import __init__, calc_reward, choose_eps_greedy, update_est\n",
    "    \n",
    "    def experiment(self, num_draws_wanted, epsilon, block_size):\n",
    "        \n",
    "        history = []\n",
    "        results = []\n",
    "        running_total = 0\n",
    "\n",
    "        for n in range(num_draws_wanted):\n",
    "            \n",
    "            deck_to_draw = self.choose_eps_greedy(epsilon)  # choose which deck to draw from\n",
    "            (reward, good_draw) = self.calc_reward(deck_to_draw)  # calculate the reward from drawing\n",
    "            self.update_est(deck_to_draw, reward)  # update deck value estimates\n",
    "            history.append(good_draw)  # store reward value\n",
    "\n",
    "        for n in range(len(history)):\n",
    "\n",
    "            if n%block_size == 0:  # if at the start of a new block\n",
    "                results.append(running_total)  # append the number of net good draws to results\n",
    "                running_total = 0  # reset running total to zero\n",
    "\n",
    "            running_total += history[n]\n",
    "\n",
    "        return results"
   ]
  },
  {
   "cell_type": "markdown",
   "metadata": {},
   "source": [
    "Let's break down the final part of the class."
   ]
  },
  {
   "cell_type": "markdown",
   "metadata": {},
   "source": [
    "    def experiment(self, num_draws_wanted, epsilon, block_size):\n",
    "    \n",
    "The parameters are num_draws_wanted (the total number of draws wanted), epsilon (the epsilon value wanted between 0.0 and 1.0), and block_size.\n",
    "\n",
    "Bull et al., 2015 used 200 draws per participant, split into 10 blocks of 20 draws, and calculated the net 'good' draws for each block."
   ]
  },
  {
   "cell_type": "markdown",
   "metadata": {},
   "source": [
    "    history = []\n",
    "\n",
    "This creates an empty list that we will use to store the history of if the draw was from a 'good' or 'bad' deck."
   ]
  },
  {
   "cell_type": "markdown",
   "metadata": {},
   "source": [
    "    results = []\n",
    "\n",
    "This creates an empty list that we will use to store the net number of good draws per block."
   ]
  },
  {
   "cell_type": "markdown",
   "metadata": {},
   "source": [
    "    running_total = 0\n",
    "\n",
    "This is an integer we will use to keep a running total of good draws per block."
   ]
  },
  {
   "cell_type": "markdown",
   "metadata": {},
   "source": [
    "    for n in range(num_draws_wanted):\n",
    "    \n",
    "        deck_to_draw = experiment_instance.choose_eps_greedy(epsilon)\n",
    "        (reward, good_draw) = experiment_instance.calc_reward(deck_to_draw)\n",
    "        experiment_instance.update_est(deck_to_draw, reward)\n",
    "        history.append(good_draw)  \n",
    "\n",
    "We input the number of draws we want as a parameter, and we then use that in a 'for' loop. A 'for' loop will run the following code the inputed number of times, in this case, 'num_draws_wanted'.\n",
    "\n",
    "Each loop does this:\n",
    "\n",
    "First calculates the deck to draw from using our choose_eps_greedy function.\n",
    "\n",
    "Next, we calculate the reward, and if the deck is 'good' or 'bad' using our calc_reward function. Remember that the function has two returns.\n",
    "\n",
    "We then update the estimate for that deck using our update_est function.\n",
    "\n",
    "    list0.append(list1)\n",
    "    \n",
    "This adds list1 to the end of list0.\n",
    "\n",
    "We then append whether it was a 'good' or 'bad draw (+1 or -1) to the end of our history list. The history list will be a list of '-1's and '1's."
   ]
  },
  {
   "cell_type": "markdown",
   "metadata": {},
   "source": [
    "    for n in range(len(history)):\n",
    "\n",
    "            if n%block_size == 0:\n",
    "                results.append(running_total)\n",
    "                running_total = 0\n",
    "\n",
    "            running_total += history[n]\n",
    "\n",
    "        return results\n",
    "        \n",
    "This code now splits our history list into blocks.\n",
    "\n",
    "It loops through the history list.\n",
    "    \n",
    "    running_total += history[n]\n",
    "\n",
    "counts the number of 'good' draws - 'bad' draws, the net 'good' draws.\n",
    "    \n",
    "For example, if the first five elements of the history list are [1, -1, -1, 1, -1], the running total will become (in order): 1, 0, -1, 0, -1.\n",
    "\n",
    "If it reaches the start of a new block, it will append this total to the end of our results list, and reset that total to zero ready for the next block. It calculates if it has reached a new block using the modulo function, %. The modulo function returns the remainder when one number is divided by another. \n",
    "\n",
    "Using a block size of 20, as in the experiment, when it reaches the 20th element of the history list, modulo will be 0, as 20/20 is 1, remainder 0, and therefore it knows it is at the start of a new block.\n",
    "\n",
    "If it is at the 55th element of the history list, modulo will be 15, as 55/20 is 2, remainder 15, so it knows it is not at the start of a new block."
   ]
  },
  {
   "cell_type": "markdown",
   "metadata": {},
   "source": [
    "That's it! We've finished the class. Let's talk through how to run it."
   ]
  },
  {
   "cell_type": "markdown",
   "metadata": {},
   "source": [
    "#### Getting Results"
   ]
  },
  {
   "cell_type": "markdown",
   "metadata": {},
   "source": [
    "We run the experiment function to get some results."
   ]
  },
  {
   "cell_type": "code",
   "execution_count": 2,
   "metadata": {
    "collapsed": false
   },
   "outputs": [
    {
     "name": "stdout",
     "output_type": "stream",
     "text": [
      "[0, -4, -4, 2, 4]\n"
     ]
    }
   ],
   "source": [
    "import numpy as np\n",
    "import random\n",
    "\n",
    "class Iowa:\n",
    "    \n",
    "    from code import __init__, calc_reward, choose_eps_greedy, update_est, experiment\n",
    "    \n",
    "experiment_instance = Iowa()\n",
    "outcome = experiment_instance.experiment(20, 0.1, 4)  # run the experiment\n",
    "print outcome"
   ]
  },
  {
   "cell_type": "markdown",
   "metadata": {
    "collapsed": true
   },
   "source": [
    "    experiment_instance = Iowa()\n",
    "    outcome = experiment_instance.experiment(20, 0.1, 4) \n",
    "\n",
    "Running the code above draws a card 20 times, with an epsilon of 0.1, and a block size of 4. The net 'good' draws for each block are listed."
   ]
  },
  {
   "cell_type": "markdown",
   "metadata": {
    "collapsed": true
   },
   "source": [
    "#### Running the Experiment"
   ]
  },
  {
   "cell_type": "markdown",
   "metadata": {},
   "source": [
    "This is the code we will use to run the experiment. This section is not runnable as we need to add it to our main code."
   ]
  },
  {
   "cell_type": "code",
   "execution_count": 3,
   "metadata": {
    "collapsed": false
   },
   "outputs": [],
   "source": [
    "block_size = 20\n",
    "num_runs = 50\n",
    "num_draws = 200\n",
    "\n",
    "avg_outcome_eps0p1 = np.zeros(num_draws/block_size)  # store the results of each run\n",
    "\n",
    "for i in range(num_runs):\n",
    "\n",
    "    experiment_instance = Iowa()\n",
    "    avg_outcome_eps0p1 += experiment_instance.experiment(num_draws, 0.1, block_size)\n",
    "\n",
    "avg_outcome_eps0p1 /= np.float(num_runs)  # average the results"
   ]
  },
  {
   "cell_type": "markdown",
   "metadata": {
    "collapsed": true
   },
   "source": [
    "    block_size\n",
    "    num_runs\n",
    "    num_draws\n",
    "These set up the block size wanted, the number of runs of the experiment wanted (i.e. the number of participants), and the number of deck draws for each run.\n",
    "\n",
    "We have set the block size to 20, the number of runs to 50, and the number of draws to 200, to mirror the Bull et al. experiment."
   ]
  },
  {
   "cell_type": "markdown",
   "metadata": {},
   "source": [
    "    avg_outcome_eps0p1 = np.zeros(num_draws/block_size)\n",
    "\n",
    "These are arrays (similar to lists) to store the results of the net 'good' draws per block. The number of blocks needed is num_draws/block_size. np.zeros creates arrays of the given size and makes all the elements zero.\n",
    "    \n",
    "    eps0p1\n",
    "\n",
    "reads epsilon zero point one (0.1)"
   ]
  },
  {
   "cell_type": "markdown",
   "metadata": {},
   "source": [
    "    for i in range(num_runs):\n",
    "\n",
    "        experiment_instance = Iowa()\n",
    "        avg_outcome_eps0p1 += experiment_instance.experiment(num_draws, 0.1, block_size)\n",
    "\n",
    "This runs the experiment, for the given number of runs.\n",
    "\n",
    "The parameters for each experiment instance are: the given number of draws, the given epsilon value, and given block size. It adds the results after each run to the end of the current avg_outcome for that experiment instance.\n",
    "\n",
    "For example, if the current avg_outcome for a given epsilon value is [-2, 0, 2...] and the next results array for the same epsilon value is [0, 3, 5...], adding them together would result in [-2, 3, 7...]."
   ]
  },
  {
   "cell_type": "markdown",
   "metadata": {},
   "source": [
    "    avg_outcome_eps0p1 /= np.float(num_runs) \n",
    "\n",
    "This averages the results. The net 'good' draws in the first block, among all the participants is averaged, the net 'good' draws in the second block, among all the participants is averaged, and so on.\n",
    "\n",
    "So if the results array is currently [-2, 3, 7...] and the number of runs is 2, the end result will be [-1, 1.5, 3.5...]"
   ]
  },
  {
   "cell_type": "markdown",
   "metadata": {},
   "source": [
    "This section can be a bit confusing so a worded explanation might help:\n",
    "\n",
    "There are four separate experiments. One with an epsilon value of 0.0, one with an epsilon value of 0.01, one with an epsilon value of 0.1, and one with an epsilon value of 0.25.\n",
    "\n",
    "Each experiment is where 200 cards are drawn. Each experiment is run 50 times.\n",
    "\n",
    "The 200 card draws are split into 'blocks' of 20 draws, and the number of 'good' - 'bad' draws within each block is calculated."
   ]
  },
  {
   "cell_type": "markdown",
   "metadata": {},
   "source": [
    "#### Plotting Result Graphs"
   ]
  },
  {
   "cell_type": "markdown",
   "metadata": {},
   "source": [
    "This is the code we will use to plot graphs of our results. This section of code is not runnable, as we need to add the rest of our code."
   ]
  },
  {
   "cell_type": "code",
   "execution_count": 4,
   "metadata": {
    "collapsed": false
   },
   "outputs": [
    {
     "data": {
      "image/png": "[encoded data removed]",
      "text/plain": [
       "<matplotlib.figure.Figure at 0x6bfc7f0>"
      ]
     },
     "metadata": {},
     "output_type": "display_data"
    }
   ],
   "source": [
    "import matplotlib.pyplot as plt\n",
    "\n",
    "plt.plot(avg_outcome_eps0p1, label=\"eps = 0.1\")\n",
    "plt.ylim(-10, 20)  # limits for the y-axis\n",
    "plt.ylabel('Absolute Mean Net Score')\n",
    "plt.legend(loc='best')  # display the graph key\n",
    "plt.savefig('graph.png')  # save graph to folder\n",
    "plt.show()  # display the graph"
   ]
  },
  {
   "cell_type": "markdown",
   "metadata": {},
   "source": [
    "We firstly add\n",
    "    \n",
    "    import matplotlib.pyplot as plt\n",
    "    \n",
    "to the top of our code as we will be using this library to plot result graphs."
   ]
  },
  {
   "cell_type": "markdown",
   "metadata": {},
   "source": [
    "     plt.plot(results_to_be_plotted, label=\"label wanted\")\n",
    "\n",
    "This plots the results calculated above, and labels these results. We plot a graph for each epsilon value."
   ]
  },
  {
   "cell_type": "markdown",
   "metadata": {},
   "source": [
    "    plt.ylim(-10, 25)\n",
    "\n",
    "This restricts the y-axis from -10 to 25. The maximum number of 'good' draws is 20, the block size. We use 25 to give some space at the top."
   ]
  },
  {
   "cell_type": "markdown",
   "metadata": {},
   "source": [
    "    plt.savefig('graph.png')\n",
    "\n",
    "This saves a copy of the graph to the same folder that this notebook is stored in, as 'graph.png'."
   ]
  },
  {
   "cell_type": "markdown",
   "metadata": {},
   "source": [
    "    plt.legend(loc = 'best') \n",
    "\n",
    "This provides the graph with a key to associate each coloured line with the correct label, and places it where the function determines to be best."
   ]
  },
  {
   "cell_type": "markdown",
   "metadata": {},
   "source": [
    "    plt.show()\n",
    "\n",
    "This displays the graph on screen."
   ]
  },
  {
   "cell_type": "markdown",
   "metadata": {},
   "source": [
    "#### Completed Code"
   ]
  },
  {
   "cell_type": "code",
   "execution_count": 3,
   "metadata": {
    "collapsed": false
   },
   "outputs": [
    {
     "data": {
      "image/png": "[encoded data removed]",
      "text/plain": [
       "<matplotlib.figure.Figure at 0x7a2bb00>"
      ]
     },
     "metadata": {},
     "output_type": "display_data"
    }
   ],
   "source": [
    "import numpy as np\n",
    "import random\n",
    "import matplotlib.pyplot as plt\n",
    "\n",
    "\n",
    "class Iowa:\n",
    "    def __init__(self):\n",
    "\n",
    "        self.deck_values = [0, 1, 2, 3]\n",
    "\n",
    "        random.shuffle(self.deck_values)  # randomise deck order\n",
    "\n",
    "        self.num_draws = [0, 0, 0, 0]  # set up list for tracking number of draws\n",
    "        self.est_values = [0, 0, 0, 0]  # set up list for tracking estimated values\n",
    "\n",
    "    def calc_reward(self, deck_to_draw):\n",
    "\n",
    "        deck_number = self.deck_values[deck_to_draw]  # the deck number to draw from\n",
    "\n",
    "        good = 0  # if the deck is good or bad\n",
    "\n",
    "        rand_num = random.random()  # random float between 0.0 and 1.0\n",
    "\n",
    "        if deck_number == 0:  # average over 10 draws, -250\n",
    "\n",
    "            good = -1  # bad deck\n",
    "\n",
    "            if rand_num < 0.5:\n",
    "                reward = -150\n",
    "            else:\n",
    "                reward = 100\n",
    "\n",
    "        elif deck_number == 1:  # average over 10 draws, -250\n",
    "\n",
    "            good = -1  # bad deck\n",
    "\n",
    "            if rand_num < 0.1:\n",
    "                reward = -700\n",
    "            else:\n",
    "                reward = 50\n",
    "\n",
    "        elif deck_number == 2:  # average over 10 draws, +200\n",
    "\n",
    "            good = 1  # good deck\n",
    "\n",
    "            if rand_num < 0.5:\n",
    "                reward = -35\n",
    "            else:\n",
    "                reward = 75\n",
    "\n",
    "        elif deck_number == 3:  # average over 10 draws, +250\n",
    "\n",
    "            good = 1  # good deck\n",
    "\n",
    "            if rand_num < 0.1:\n",
    "                reward = -200\n",
    "            else:\n",
    "                reward = 50\n",
    "\n",
    "        return reward, good\n",
    "\n",
    "    # choose which deck to draw from\n",
    "    def choose_eps_greedy(self, epsilon):  \n",
    "\n",
    "        # generate a random float between 0.0 and 1.0\n",
    "        rand_num = random.random()  \n",
    "\n",
    "        # get best deck\n",
    "        best_deck = np.argmax(self.est_values)\n",
    "\n",
    "        # if the random number is higher than epsilon, exploit\n",
    "        if rand_num > epsilon:  \n",
    "            \n",
    "            return best_deck  \n",
    "\n",
    "        # if random number is lower than epsilon, explore\n",
    "        else:\n",
    "            random_deck = random.choice(self.deck_values)\n",
    "\n",
    "            # make sure random deck chosen is not best deck\n",
    "            while random_deck == best_deck:\n",
    "                random_deck = random.choice(self.deck_values)\n",
    "\n",
    "            return random_deck \n",
    "\n",
    "    def update_est(self, deck_to_draw, reward):\n",
    "\n",
    "        # increase number of deck draws by one\n",
    "        self.num_draws[deck_to_draw] += 1  \n",
    "\n",
    "        # calculate the step-size\n",
    "        alpha = 1./self.num_draws[deck_to_draw] \n",
    "\n",
    "        # running average of rewards\n",
    "        self.est_values[deck_to_draw] += alpha * (reward - self.est_values[deck_to_draw])  \n",
    "\n",
    "    def experiment(self, num_draws_wanted, epsilon, block_size):\n",
    "\n",
    "        history = []\n",
    "        results = []\n",
    "        running_total = 0\n",
    "\n",
    "        for n in range(num_draws_wanted):\n",
    "\n",
    "            deck_to_draw = self.choose_eps_greedy(epsilon)  # choose which deck to draw from\n",
    "            (reward, good_draw) = self.calc_reward(deck_to_draw)  # calculate the reward from drawing\n",
    "            self.update_est(deck_to_draw, reward)  # update deck value estimates\n",
    "            history.append(good_draw)  # store reward value\n",
    "\n",
    "        for n in range(len(history)):\n",
    "\n",
    "            if n%block_size == 0:  # if at the start of a new block\n",
    "                results.append(running_total)  # append the number of net good draws to results\n",
    "                running_total = 0  # reset running total to zero\n",
    "\n",
    "            running_total += history[n]\n",
    "\n",
    "        return results\n",
    "\n",
    "block_size = 20\n",
    "num_runs = 50\n",
    "num_draws = 200\n",
    "\n",
    "avg_outcome_eps0p1 = np.zeros(num_draws/block_size)  # store the results of each run\n",
    "\n",
    "for i in range(num_runs):\n",
    "\n",
    "    experiment_instance = Iowa()\n",
    "    avg_outcome_eps0p1 += experiment_instance.experiment(num_draws, 0.1, block_size)\n",
    "\n",
    "avg_outcome_eps0p1 /= np.float(num_runs)  # average the results\n",
    "\n",
    "# plot results\n",
    "plt.plot(avg_outcome_eps0p1, label=\"eps = 0.1\") # plot the results, and give a label\n",
    "plt.ylim(-10, 25)  # limits for the y-axis\n",
    "plt.ylabel('Absolute Mean Net Score')\n",
    "plt.legend(loc='best')  # display the graph key\n",
    "plt.savefig('graph.png')  # save graph to folder\n",
    "plt.show()  # display the graph"
   ]
  },
  {
   "cell_type": "markdown",
   "metadata": {},
   "source": [
    " "
   ]
  },
  {
   "cell_type": "markdown",
   "metadata": {},
   "source": [
    "### Analysing Results"
   ]
  },
  {
   "cell_type": "markdown",
   "metadata": {
    "collapsed": true
   },
   "source": [
    "Now that we've got the results, let's see what they mean."
   ]
  },
  {
   "cell_type": "markdown",
   "metadata": {
    "collapsed": true
   },
   "source": [
    "The graph shows the number of net 'good' draws in each block for each epsilon value.\n",
    "\n",
    "As we can see, all algorithms get better over time, showing our epsilon-greedy algorithm works, but the rate at which it improves, and the value at which it plateaus changes depending on our choice of epsilon value.\n",
    "\n",
    "Let's compare it to the results in the paper.\n",
    "\n",
    "<img src=\"PaperGraph.png\">\n",
    "\n",
    "Our y-axis matches the right y-axis in the graph from the paper (the net positive draws).\n",
    "\n",
    "Questions:\n",
    "\n",
    "- What is a good value of epsilon for modeling the human results?\n",
    "\n",
    "- If epsilon-greedy is what people are doing then why do they not use a more effective learning rate? One which learns faster and reaches a higher plateau?\n",
    "\n",
    "- What other constraints might be bounding the human performance?\n",
    "\n",
    "- Is it possible to perform better by changing epsilon during learning?\n",
    "\n",
    "- What would happen for decks that vary over time?\n",
    "\n",
    "- Could this model be used to model individuals?"
   ]
  },
  {
   "cell_type": "markdown",
   "metadata": {
    "collapsed": true
   },
   "source": [
    " "
   ]
  },
  {
   "cell_type": "markdown",
   "metadata": {},
   "source": [
    "#### References:\n",
    "\n",
    "Bechara, A., Damasio, A. R., Damasio, H. and Anderson, S. W. (1994), ‘Insensitivity to future consequences following damage to human prefrontal cortex’, Cognition 50(1), 7–15.\n",
    "\n",
    "Bull, P. N., Tippett, L. J. and Addis, D. R. (2015), ‘Decision making in healthy participants on the iowa gambling task: new insights from an operant approach’, Frontiers in psychology 6, 391.\n",
    "\n",
    "Farris, B. (2016), ‘Multi-armed bandits’, http://blog.thedataincubator.com/2016/07/multi-armed-bandits-2/. [Online; accessed 16 January 2017].\n",
    "\n",
    "Hamrick, J. (2011), ‘An Introduction to Classes and Inheritance (in Python)’, http://www.jesshamrick.com/2011/05/18/an-introduction-to-classes-and-inheritance-in-python/. [Online; accessed 09 March 2017].\n",
    "\n",
    "TutorialPoint. (n.d.), 'Python Lists', https://www.tutorialspoint.com/python/python_lists.htm. [Online; accessed 09 March 2017]."
   ]
  }
 ],
 "metadata": {
  "anaconda-cloud": {},
  "kernelspec": {
   "display_name": "Python 2",
   "language": "python",
   "name": "python2"
  },
  "language_info": {
   "codemirror_mode": {
    "name": "ipython",
    "version": 2
   },
   "file_extension": ".py",
   "mimetype": "text/x-python",
   "name": "python",
   "nbconvert_exporter": "python",
   "pygments_lexer": "ipython2",
   "version": "2.7.13"
  }
 },
 "nbformat": 4,
 "nbformat_minor": 1
}
