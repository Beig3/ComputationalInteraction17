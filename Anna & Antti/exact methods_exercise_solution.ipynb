{
 "cells": [
  {
   "cell_type": "code",
   "execution_count": null,
   "metadata": {
    "collapsed": false
   },
   "outputs": [],
   "source": [
    "from gurobipy import * \n",
    "import utils_anna\n",
    "import render_anna # For presenting layouts for rendering in Jupyter \n",
    "from IPython.display import SVG # SVG capabilities for showing layouts\n",
    "%matplotlib inline"
   ]
  },
  {
   "cell_type": "markdown",
   "metadata": {},
   "source": [
    "### This is the solution to the exercises from the <a href=\"exact methods.ipynb\"> exact methods </a> notbeook"
   ]
  },
  {
   "cell_type": "markdown",
   "metadata": {
    "collapsed": true
   },
   "source": [
    "## Exercise 2: Trading off different user groups\n",
    "We modify the linear assignment problem for menus to take into account both frequencies as follows: \n",
    "\n",
    "$$min \\sum_{i=1}^N\\sum_{j=1}^N \\color{red}{(0.5 \\cdot p^{novice}_i + 0.5 \\cdot p^{expert}_i)} \\cdot d_j \\cdot r \\cdot x_{ij} $$\n",
    "$$\\text{subject to} \\hspace{6cm} $$\n",
    "$$\\sum_{i=1}^N x_{ij} = 1\\hspace{1cm} \\forall j = 1 .. N$$\n",
    "$$\\sum_{j=1}^N x_{ij} = 1\\hspace{1cm} \\forall i = 1 .. N$$\n",
    "$$x_{ij} \\in {0, 1} \\hspace{1.6cm} \\forall i, j = 1 .. N$$\n",
    "\n",
    "The frequencies are weighted by 0.5 to preserve the range of the objective value. Similarly, different weights could be used to favor different user groups."
   ]
  },
  {
   "cell_type": "markdown",
   "metadata": {},
   "source": [
    "## Exercise 3a: Formulation of the letter assignment problem\n",
    "<img src=\"imgs/letter_assignment2.PNG\" style=\"float:right\" width=40%>\n",
    "\n",
    "We can use the same formulation as for the quadratic assignmenr problem where we have assigned factories to loactions. The flow between factories corresponds to the frequency of typing one letter after another. The distance between locations corresponds to the time it takes to move bettween two keys on the keyboard. For typing with one finger, this can be quanitifed by Fitts' Law. The goal is to assign characters to keys such that the time to type any character after any other character is minimized: \n",
    "\n",
    "$$ min \\sum_{i\\in \\Sigma}\\sum_{k\\in K}\\sum_{j \\in \\Sigma} \\sum_{l\\in k}\n",
    "p_{ij} \\cdot t_{kl} \\cdot x_{ik} \\cdot x_{jl} $$\n",
    "$$s.t.$$\n",
    "$$ \\sum_{k \\in G} x_{ik} = 1 \\qquad \\forall i \\in \\Sigma$$\n",
    "$$ \\sum_{i \\in \\Sigma} x_{ik} \\leq 1 \\qquad \\forall k \\in K$$\n",
    "$$ x_{ik} \\in {0,1} \\quad \\forall i \\in \\Sigma, k \\in K $$\n",
    "\n"
   ]
  },
  {
   "cell_type": "markdown",
   "metadata": {
    "collapsed": false
   },
   "source": [
    "## Exercise 3b: Implementation of the letter assignment problem\n",
    "Note: we have only optimized a keyboard layout with 9 letters and keys. Why? Because the time to solve this problem grows exponentially with the number of letters and keys. Here is the runtime on a standard laptop for 9, 10, and 11 keys. If you want you can increase the number of letters and let it run over night. Even if it does not finish, Gurobi reports the objective value and the gap to the global optimum. You can also add a callback function as a parameter to the <code>optimize()</code> function. In the callback function you can write out incumbent solutions to look at them later. See an example <a href=\"http://www.gurobi.com/documentation/7.0/examples/callback_py.html\">here</a>\n",
    "\n",
    "|number of characters | run time|\n",
    "|----------|------|\n",
    "| 9 | 4.5 s|\n",
    "|10 | 175 s|\n",
    "|11 | 1.5 h|\n"
   ]
  },
  {
   "cell_type": "code",
   "execution_count": null,
   "metadata": {
    "collapsed": false
   },
   "outputs": [],
   "source": [
    "# SOLUTION\n",
    "import numpy as np\n",
    "def solve(characters, keyslots, bigram_frequency, movement_time, columns):\n",
    "    # ==== 1. Create the (empty) model ====\n",
    "    model = Model(\"keyboard\")\n",
    "\n",
    "    # ==== 2. Add decision variables ======\n",
    "    x = {}\n",
    "    # Create one binary variable for each letter-key pair. \n",
    "    # We give it a meaningful name so we later understand what it means if it is set to 1\n",
    "    for i in characters:        \n",
    "        for k in keyslots:                \n",
    "            x[(i,k)] = model.addVar(vtype=GRB.BINARY, name=\"%s_%i\"%(i,k))            \n",
    "    # Integrate new variables\n",
    "    model.update()\n",
    "\n",
    "    # ==== 3. Specify Objective function ======        \n",
    "    cost = quicksum(bigram_frequency[i,j] * movement_time[k,l] * x[(i,k)] * x[(j,l)]  \n",
    "                                for l in keyslots\n",
    "                                   for k in keyslots\n",
    "                                       for i in characters\n",
    "                                           for j in characters)\n",
    "    model.setObjective(cost,GRB.MINIMIZE)\n",
    "\n",
    "    # ====4. Add Constraints ======\n",
    "    # Add constraints\n",
    "    # Each letter is only assigned to one keyslot\n",
    "    for i in characters: \n",
    "        model.addConstr(quicksum(x[(i,k)]\n",
    "                           for k in keyslots) == 1, \"uniqueness_constraint_%s\"%i)    \n",
    "    # Each element is only assigned to one position\n",
    "    for k in keyslots: \n",
    "        model.addConstr(quicksum(x[(i,k)]\n",
    "                           for i in characters) <= 1, \"uniqueness_constraint_%i\"%k)\n",
    "        \n",
    "    #Bonus task: HCI constraint\n",
    "    if \"h\" in characters and \"c\" in characters and \"i\" in characters:\n",
    "        #distance between h and c is 1\n",
    "        model.addConstr(quicksum(x[(\"h\",k)] * x[(\"c\",l)] * utils_anna.distance(columns, k, l)\n",
    "                                 for k in keyslots \n",
    "                                     for l in keyslots) == 1 )\n",
    "        # and the horizontal distance is 1\n",
    "        model.addConstr(quicksum(x[(\"h\",k)] * x[(\"c\",l)] * (l-k)\n",
    "                                for k in keyslots \n",
    "                                     for l in keyslots) == 1 )\n",
    "        \n",
    "        #distance between c and i is 1\n",
    "        model.addConstr(quicksum(x[(\"c\",k)] * x[(\"i\",l)] * utils_anna.distance(columns, k, l)\n",
    "                                 for k in keyslots \n",
    "                                     for l in keyslots) == 1 )\n",
    "        # and the horizontal distance is 1\n",
    "        model.addConstr(quicksum(x[(\"c\",k)] * x[(\"i\",l)] * (l-k)\n",
    "                                 for k in keyslots \n",
    "                                     for l in keyslots) == 1 )\n",
    "    \n",
    "    model.update()\n",
    "    \n",
    "    # ==== 5. Optimize model ======    \n",
    "    p=model.presolve()\n",
    "    p.write(\"presolve.lp\")\n",
    "    model.optimize()\n",
    "    \n",
    "    # ====6. Extract solution ======   \n",
    "    mapping = {}\n",
    "    \n",
    "    for v in model.getVars():\n",
    "        if v.x == 1:\n",
    "            character = v.varName.split(\"_\")[0]\n",
    "            slot = int(v.varName.split(\"_\")[1])\n",
    "            mapping[character] = slot\n",
    "            \n",
    "    return mapping, model.getObjective().getValue()"
   ]
  },
  {
   "cell_type": "code",
   "execution_count": null,
   "metadata": {
    "collapsed": false
   },
   "outputs": [],
   "source": [
    "#define characters and keyslots\n",
    "characters = ['a', 'c', 's', 'r', 'e', 'f', 't', 'h', 'i']\n",
    "keyslots = list(range(len(characters))) \n",
    "columns = 3\n",
    "\n",
    "#obtain cost factors: movement time and bigram frequencies\n",
    "movement_time = {(s1,s2): utils_anna.fittslawcost(s1,s2, utils_anna.distance(columns,s1,s2)) for s1 in keyslots for s2 in keyslots}\n",
    "\n",
    "#letter pair frequency        \n",
    "bigram_frequency = utils_anna.get_bigram_frequency(characters)\n",
    "\n",
    "#solve the problem\n",
    "mapping, objective = solve(characters, keyslots, bigram_frequency, movement_time, columns)\n",
    "\n",
    "print \"The average WPM of the winning keyboard is %.2f\"%utils_anna.wpm(objective)\n",
    "render_anna.plot_keyboard(mapping, columns)"
   ]
  },
  {
   "cell_type": "markdown",
   "metadata": {
    "collapsed": false
   },
   "source": [
    "## Bonus task: \n",
    "The distance between the keys mapped to H-C and C-I is 1: \n",
    "$$ \\sum_{k\\in K} \\sum_{l\\in K} d_{kl} \\cdot x_{\\mathbf{ H }k} \\cdot x_{\\mathbf{ C }l} = 1$$\n",
    "$$ \\sum_{k\\in K} \\sum_{l\\in K} d_{kl} \\cdot x_{\\mathbf{ C }k} \\cdot x_{\\mathbf{ I }l} = 1$$\n",
    "\n",
    "The key mapped to H is left of the key mapped to C, same for C and I:\n",
    "$$ \\sum_{k\\in K} \\sum_{l\\in K} (l-k) \\cdot x_{\\mathbf{ H }k} \\cdot x_{\\mathbf{ C }l} = 1$$\n",
    "$$ \\sum_{k\\in K} \\sum_{l\\in K} (l-k) \\cdot x_{\\mathbf{ C }k} \\cdot x_{\\mathbf{ I }l} = 1$$\n",
    "\n",
    "The implementation is shown in the <code>solve()</code> function above. \n",
    "\n",
    "Note: while constraints may make the problem easier to solve because they reduce the space of feasible solutions, quadratic constraints like these further increase the mathematical complexity of the problem. "
   ]
  },
  {
   "cell_type": "code",
   "execution_count": null,
   "metadata": {
    "collapsed": false
   },
   "outputs": [],
   "source": []
  },
  {
   "cell_type": "code",
   "execution_count": null,
   "metadata": {
    "collapsed": false
   },
   "outputs": [],
   "source": []
  },
  {
   "cell_type": "code",
   "execution_count": null,
   "metadata": {
    "collapsed": false
   },
   "outputs": [],
   "source": []
  },
  {
   "cell_type": "code",
   "execution_count": null,
   "metadata": {
    "collapsed": false
   },
   "outputs": [],
   "source": []
  },
  {
   "cell_type": "code",
   "execution_count": null,
   "metadata": {
    "collapsed": false
   },
   "outputs": [],
   "source": []
  },
  {
   "cell_type": "code",
   "execution_count": null,
   "metadata": {
    "collapsed": false
   },
   "outputs": [],
   "source": [
    "\n"
   ]
  },
  {
   "cell_type": "code",
   "execution_count": null,
   "metadata": {
    "collapsed": false
   },
   "outputs": [],
   "source": []
  },
  {
   "cell_type": "code",
   "execution_count": null,
   "metadata": {
    "collapsed": true
   },
   "outputs": [],
   "source": []
  }
 ],
 "metadata": {
  "anaconda-cloud": {},
  "kernelspec": {
   "display_name": "Python [conda root]",
   "language": "python",
   "name": "conda-root-py"
  },
  "language_info": {
   "codemirror_mode": {
    "name": "ipython",
    "version": 2
   },
   "file_extension": ".py",
   "mimetype": "text/x-python",
   "name": "python",
   "nbconvert_exporter": "python",
   "pygments_lexer": "ipython2",
   "version": "2.7.12"
  }
 },
 "nbformat": 4,
 "nbformat_minor": 1
}
